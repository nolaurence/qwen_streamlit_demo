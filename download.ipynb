{
 "cells": [
  {
   "cell_type": "code",
   "execution_count": null,
   "metadata": {},
   "outputs": [],
   "source": [
    "# 使用魔搭下载模型\n",
    "\n",
    "from modelscope.hub.snapshot_download import snapshot_download\n",
    "# from modelscope.hub.api import HubApi\n",
    "\n",
    "# YOUR_ACCESS_TOKEN = '请从ModelScope个人中心->访问令牌获取'\n",
    "\n",
    "# api = HubApi()\n",
    "# api.login(YOUR_ACCESS_TOKEN)\n",
    "model_downloaded_path = snapshot_download(\n",
    "    model_id=\"qwen/Qwen1.5-7B-Chat\",\n",
    "    cache_dir=\"~/projects/chatglm/model/qwen1.5-9b\" # 本地保存目录，默认为 ~/.cache/modelscope/hub\n",
    ")\n",
    "\n",
    "print(model_downloaded_path)\n",
    "\n",
    "# snapshot_download(\"LLM-Research/Meta-Llama-3-8B-Instruct\")"
   ]
  },
  {
   "cell_type": "code",
   "execution_count": null,
   "metadata": {},
   "outputs": [],
   "source": [
    "!pwd"
   ]
  }
 ],
 "metadata": {
  "language_info": {
   "name": "python"
  }
 },
 "nbformat": 4,
 "nbformat_minor": 2
}
